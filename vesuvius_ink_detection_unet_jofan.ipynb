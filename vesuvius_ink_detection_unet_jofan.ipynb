{
  "nbformat": 4,
  "nbformat_minor": 0,
  "metadata": {
    "colab": {
      "provenance": [],
      "toc_visible": true,
      "machine_shape": "hm",
      "gpuType": "A100",
      "authorship_tag": "ABX9TyNG4goF9+Wtgp5OCMaIQs+I",
      "include_colab_link": true
    },
    "kernelspec": {
      "name": "python3",
      "display_name": "Python 3"
    },
    "language_info": {
      "name": "python"
    },
    "accelerator": "GPU"
  },
  "cells": [
    {
      "cell_type": "markdown",
      "metadata": {
        "id": "view-in-github",
        "colab_type": "text"
      },
      "source": [
        "<a href=\"https://colab.research.google.com/github/JFchien/DataVisualization/blob/main/vesuvius_ink_detection_unet_jofan.ipynb\" target=\"_parent\"><img src=\"https://colab.research.google.com/assets/colab-badge.svg\" alt=\"Open In Colab\"/></a>"
      ]
    },
    {
      "cell_type": "code",
      "execution_count": null,
      "metadata": {
        "colab": {
          "base_uri": "https://localhost:8080/"
        },
        "id": "9ktvLvXmDXk7",
        "outputId": "a30274a0-ba68-4f66-def6-1cf57afd3ef4"
      },
      "outputs": [
        {
          "output_type": "stream",
          "name": "stdout",
          "text": [
            "cuda\n",
            "Drive already mounted at /content/gdrive; to attempt to forcibly remount, call drive.mount(\"/content/gdrive\", force_remount=True).\n"
          ]
        }
      ],
      "source": [
        "import numpy as np\n",
        "import pandas as pd\n",
        "import matplotlib.pyplot as plt\n",
        "from tqdm import tqdm\n",
        "import glob\n",
        "import PIL.Image as Image\n",
        "\n",
        "import torch\n",
        "import torch.nn as nn\n",
        "import torch.optim as optim\n",
        "import torch.utils.data as data\n",
        "\n",
        "DEVICE = torch.device(\"cuda\" if torch.cuda.is_available() else \"cpu\")\n",
        "print(DEVICE)\n",
        "\n",
        "from google.colab import drive\n",
        "drive.mount('/content/gdrive')\n",
        "\n",
        "PREFIX = '/content/gdrive/MyDrive/train/1/'"
      ]
    },
    {
      "cell_type": "code",
      "source": [
        "# # check if data is loaded\n",
        "# mask = np.array(Image.open(PREFIX+\"mask.png\").convert('1'))\n",
        "# label = torch.from_numpy(np.array(Image.open(PREFIX+\"inklabels.png\"))).gt(0).float().to(DEVICE)\n",
        "# fig, (ax1, ax2) = plt.subplots(1, 2)\n",
        "# ax1.set_title(\"mask.png\")\n",
        "# ax1.imshow(mask, cmap='gray')\n",
        "# ax2.set_title(\"inklabels.png\")\n",
        "# ax2.imshow(label.cpu(), cmap='gray')\n",
        "# plt.show()"
      ],
      "metadata": {
        "id": "SiMJBIX0Dmfc"
      },
      "execution_count": null,
      "outputs": []
    },
    {
      "cell_type": "markdown",
      "source": [
        "# vesuvius 3D UNET"
      ],
      "metadata": {
        "id": "G1_or6rMLUZk"
      }
    },
    {
      "cell_type": "code",
      "source": [
        "import numpy as np\n",
        "import pandas as pd\n",
        "import matplotlib.pyplot as plt\n",
        "from tqdm import tqdm\n",
        "import glob\n",
        "import PIL.Image as Image\n",
        "\n",
        "import torch\n",
        "import torch.nn as nn\n",
        "import torch.optim as optim\n",
        "import torch.utils.data as data\n",
        "\n",
        "from google.colab import drive\n",
        "drive.mount('/content/gdrive')\n",
        "\n",
        "PREFIX = '/content/gdrive/MyDrive/train/1/'\n",
        "\n",
        "class SubvolumeDataset(data.Dataset):\n",
        "    def __init__(self, image_stack, label, pixels):\n",
        "        self.image_stack = image_stack\n",
        "        self.label = label\n",
        "        self.pixels = pixels\n",
        "    def __len__(self):\n",
        "        return len(self.pixels)\n",
        "\n",
        "    def __getitem__(self, index):\n",
        "        y, x = self.pixels[index]\n",
        "        subvolume = self.image_stack[:, y-BUFFER:y+BUFFER, x-BUFFER:x+BUFFER].view(1, Z_DIM,BUFFER*2, BUFFER*2)\n",
        "        inklabel = self.label[y-BUFFER:y+BUFFER, x-BUFFER:x+BUFFER].view(1,BUFFER*2, BUFFER*2)\n",
        "        return subvolume, inklabel\n",
        "\n",
        "class Down(nn.Module):\n",
        "    def __init__(self, in_c, out_c):\n",
        "        super().__init__()\n",
        "        self.down_conv = nn.Sequential(\n",
        "          nn.Conv3d(in_c, out_c, kernel_size=3, stride=1, padding=1),\n",
        "          nn.BatchNorm3d(out_c),\n",
        "          nn.Conv3d(out_c, out_c, kernel_size=3, stride=1, padding=1),\n",
        "          nn.BatchNorm3d(out_c),\n",
        "          nn.ReLU()\n",
        "        )\n",
        "        self.maxpool=nn.MaxPool3d(kernel_size=2)\n",
        "\n",
        "    def forward(self,inputs):\n",
        "        x = self.down_conv(inputs)\n",
        "        p = self.maxpool(x)\n",
        "        return x, p\n",
        "\n",
        "class Up(nn.Module):\n",
        "    def __init__(self, in_c, out_c):\n",
        "        super().__init__()\n",
        "        self.up = nn.ConvTranspose3d(in_c, out_c, kernel_size=2,  stride=2, padding=0)\n",
        "        self.up_conv = nn.Sequential(\n",
        "          nn.Conv3d(in_c, out_c, kernel_size=3, stride=1,padding=1),\n",
        "          nn.BatchNorm3d(out_c),\n",
        "          nn.ReLU(),\n",
        "          nn.Conv3d(out_c, out_c, kernel_size=3,stride=1, padding=1),\n",
        "          nn.BatchNorm3d(out_c),\n",
        "          nn.ReLU(),\n",
        "        )\n",
        "\n",
        "    def forward(self, x, crop):\n",
        "        x = self.up(x)\n",
        "        x = torch.cat([x, crop], dim=1)\n",
        "        x = self.up_conv(x)\n",
        "        return x\n",
        "\n",
        "class Unet(nn.Module):\n",
        "    def __init__(self):\n",
        "        super().__init__()\n",
        "        self.d1 = Down(1, 64)\n",
        "        self.d2 = Down(64, 128)\n",
        "        self.d3 = Down(128, 256)\n",
        "        self.d4 = Down(256, 512)\n",
        "        self.bottleneck = Down(512, 1024)\n",
        "        self.u4 = Up(1024, 512)\n",
        "        self.u3 = Up(512, 256)\n",
        "        self.u2 = Up(256, 128)\n",
        "        self.u1 = Up(128, 64)\n",
        "        self.outputs = nn.Conv3d(64, 1, kernel_size=1, padding=0)\n",
        "    def forward(self, x):\n",
        "        x1, p1 = self.d1(x)\n",
        "#         print(f\"Size of x1: {x1.size()}\")\n",
        "#         print(f\"Size of p1: {p1.size()}\")\n",
        "        x2, p2 = self.d2(p1)\n",
        "#         print(f\"Size of x2: {x2.size()}\")\n",
        "#         print(f\"Size of p2: {p2.size()}\")\n",
        "        x3, p3 = self.d3(p2)\n",
        "#         print(f\"Size of x3: {x3.size()}\")\n",
        "#         print(f\"Size of p3: {p3.size()}\")\n",
        "        x4, p4 = self.d4(p3)\n",
        "#         print(f\"Size of x4: {x4.size()}\")\n",
        "#         print(f\"Size of p4: {p4.size()}\")\n",
        "        b, _ = self.bottleneck(p4)\n",
        "#         print(f\"Size of b: {b.size()}\")\n",
        "        u4 = self.u4(b,x4)\n",
        "#         print(f\"Size of u4: {u4.size()}\")\n",
        "        u3 = self.u3(u4,x3)\n",
        "        u2 = self.u2(u3,x2)\n",
        "        u1 = self.u1(u2,x1)\n",
        "        outputs = self.outputs(u1)\n",
        "        return outputs"
      ],
      "metadata": {
        "colab": {
          "base_uri": "https://localhost:8080/"
        },
        "id": "LUNKHPvrLTQT",
        "outputId": "2d95457d-7915-4b78-85d1-59fcf4901eb4"
      },
      "execution_count": null,
      "outputs": [
        {
          "output_type": "stream",
          "name": "stdout",
          "text": [
            "Drive already mounted at /content/gdrive; to attempt to forcibly remount, call drive.mount(\"/content/gdrive\", force_remount=True).\n"
          ]
        }
      ]
    },
    {
      "cell_type": "code",
      "source": [
        "DEVICE = torch.device(\"cpu\")\n",
        "BUFFER=int(512/2)\n",
        "rect = (1100, 3500, BUFFER*3, BUFFER*3)\n",
        "LEARNING_RATE = 0.03\n",
        "BATCH_SIZE = 1\n",
        "\n",
        "mask = np.array(Image.open(PREFIX+\"mask.png\").convert('1'))\n",
        "label = torch.from_numpy(np.array(Image.open(PREFIX+\"inklabels.png\"))).gt(0).float().to(DEVICE)\n",
        "Z_START = 1\n",
        "Z_END = 65\n",
        "Z_DIM=Z_END-Z_START\n",
        "images = [np.array(Image.open(filename), dtype=np.float32)/65535.0 for filename in tqdm(sorted(glob.glob(PREFIX+\"surface_volume/*.tif\"))[Z_START:Z_END])]\n",
        "image_stack = torch.stack([torch.from_numpy(image) for image in images], dim=0).to(DEVICE)\n",
        "print(image_stack.shape)\n",
        "del images\n",
        "not_border = np.zeros(mask.shape, dtype=bool)\n",
        "not_border[BUFFER:mask.shape[0]-BUFFER, BUFFER:mask.shape[1]-BUFFER] = True\n",
        "arr_mask = np.array(mask) * not_border\n",
        "inside_rect = np.zeros(mask.shape, dtype=bool) * arr_mask\n",
        "inside_rect[rect[1]:rect[1]+rect[3], rect[0]:rect[0]+rect[2]] = True\n",
        "outside_rect = np.ones(mask.shape, dtype=bool) * arr_mask\n",
        "outside_rect[rect[1]:rect[1]+rect[3], rect[0]:rect[0]+rect[2]] = False\n",
        "pixels_inside_rect = np.argwhere(inside_rect)\n",
        "pixels_outside_rect = np.argwhere(outside_rect)"
      ],
      "metadata": {
        "colab": {
          "base_uri": "https://localhost:8080/"
        },
        "id": "m-Ff0xAWL21l",
        "outputId": "7d15c608-975d-484f-e14d-f8ad0d1a251a"
      },
      "execution_count": null,
      "outputs": [
        {
          "output_type": "stream",
          "name": "stderr",
          "text": [
            "100%|██████████| 64/64 [00:17<00:00,  3.71it/s]\n"
          ]
        },
        {
          "output_type": "stream",
          "name": "stdout",
          "text": [
            "torch.Size([64, 8181, 6330])\n"
          ]
        }
      ]
    },
    {
      "cell_type": "code",
      "source": [
        "# DEVICE = torch.device(\"cuda\" if torch.cuda.is_available() else \"cpu\")\n",
        "DEVICE = torch.device(\"cpu\")\n",
        "TRAINING_STEPS = 5\n",
        "model = Unet().to(DEVICE)\n",
        "train_dataset = SubvolumeDataset(image_stack, label, pixels_outside_rect)\n",
        "train_loader = data.DataLoader(train_dataset, batch_size=BATCH_SIZE, shuffle=True)\n",
        "loss_fn = nn.MSELoss()\n",
        "optimizer = optim.SGD(model.parameters(), lr=LEARNING_RATE)\n",
        "# scheduler = torch.optim.lr_scheduler.OneCycleLR(optimizer, max_lr=LEARNING_RATE, total_steps=TRAINING_STEPS)\n",
        "\n",
        "def train_loop(dataloader, model, loss_fn, optimizer):\n",
        "    size = len(dataloader.dataset)\n",
        "    train_loss = 0\n",
        "    running_loss = 0.0\n",
        "    model.train()\n",
        "    for i, (subvolumes, inklabels) in tqdm(enumerate(dataloader), total=TRAINING_STEPS):\n",
        "        if i >= TRAINING_STEPS:\n",
        "            break\n",
        "\n",
        "        optimizer.zero_grad()\n",
        "        outputs = model(subvolumes.to(DEVICE))\n",
        "        loss = loss_fn(outputs, inklabels.to(DEVICE))\n",
        "\n",
        "        loss.backward()\n",
        "        optimizer.step()\n",
        "#         scheduler.step()\n",
        "\n",
        "        train_loss += loss.item()\n",
        "\n",
        "    train_loss /= len(dataloader)\n",
        "    print(f\"Train Error: Avg loss: {train_loss:>8f} \\n\")\n",
        "\n",
        "    return train_loss\n",
        "\n",
        "eval_dataset = SubvolumeDataset(image_stack, label, pixels_inside_rect)\n",
        "eval_loader = data.DataLoader(eval_dataset, batch_size=BATCH_SIZE, shuffle=False)\n",
        "def test_loop(dataloader, model, loss_fn):\n",
        "    model.eval()\n",
        "    size = len(dataloader.dataset)\n",
        "    test_loss = 0\n",
        "\n",
        "    with torch.no_grad():\n",
        "        for i, (subvolumes, inklabels) in tqdm(enumerate(dataloader), total=TRAINING_STEPS):\n",
        "            if i >= TRAINING_STEPS:\n",
        "                break\n",
        "            outputs = model(subvolumes.to(DEVICE))\n",
        "            loss = loss_fn(outputs, inklabels.to(DEVICE))\n",
        "            test_loss += loss.item()\n",
        "    test_loss /= len(dataloader)\n",
        "    print(f\"Test Error: Avg loss: {test_loss:>8f} \\n\")\n",
        "\n",
        "    return test_loss\n",
        "\n",
        "epochs = 2\n",
        "train_loss_all = []\n",
        "test_loss_all = []\n",
        "for t in range(epochs):\n",
        "    print(f\"Epoch {t+1}\\n-------------------------------\")\n",
        "    train_loss = train_loop(train_loader, model, loss_fn, optimizer)\n",
        "    test_loss = test_loop(eval_loader, model, loss_fn)\n",
        "\n",
        "    train_loss_all.append(train_loss)\n",
        "    test_loss_all.append(test_loss)\n",
        "\n",
        "print(\"Done!\")\n"
      ],
      "metadata": {
        "colab": {
          "base_uri": "https://localhost:8080/"
        },
        "id": "2uMIIwtiMTt5",
        "outputId": "075a0a70-c312-480a-9137-7765746e447f"
      },
      "execution_count": null,
      "outputs": [
        {
          "output_type": "stream",
          "name": "stdout",
          "text": [
            "Epoch 1\n",
            "-------------------------------\n"
          ]
        },
        {
          "output_type": "stream",
          "name": "stderr",
          "text": [
            "\r  0%|          | 0/5 [00:00<?, ?it/s]"
          ]
        }
      ]
    },
    {
      "cell_type": "markdown",
      "source": [
        "# vesuvius 2D UNET"
      ],
      "metadata": {
        "id": "2wCXgfipLLwb"
      }
    },
    {
      "cell_type": "code",
      "source": [
        "import numpy as np\n",
        "import pandas as pd\n",
        "import matplotlib.pyplot as plt\n",
        "from tqdm import tqdm\n",
        "import glob\n",
        "import PIL.Image as Image\n",
        "\n",
        "import torch\n",
        "import torch.nn as nn\n",
        "import torch.optim as optim\n",
        "import torch.utils.data as data\n",
        "\n",
        "from google.colab import drive\n",
        "drive.mount('/content/gdrive')\n",
        "\n",
        "PREFIX = '/content/gdrive/MyDrive/train/1/'\n",
        "\n",
        "class SubvolumeDataset2D(data.Dataset):\n",
        "    def __init__(self, image_stack, label, pixels):\n",
        "        self.image_stack = image_stack\n",
        "        self.label = label\n",
        "        self.pixels = pixels\n",
        "    def __len__(self):\n",
        "        return len(self.pixels)\n",
        "\n",
        "    def __getitem__(self, index):\n",
        "        y, x = self.pixels[index]\n",
        "        subvolume = self.image_stack[y-BUFFER:y+BUFFER, x-BUFFER:x+BUFFER].view(1,BUFFER*2, BUFFER*2)\n",
        "        inklabel = self.label[y-BUFFER:y+BUFFER, x-BUFFER:x+BUFFER].view(1,BUFFER*2, BUFFER*2)\n",
        "        return subvolume, inklabel\n",
        "\n",
        "class Down(nn.Module):\n",
        "    def __init__(self, in_c, out_c):\n",
        "        super().__init__()\n",
        "        self.down_conv = nn.Sequential(\n",
        "          nn.Conv2d(in_c, out_c, kernel_size=3, stride=1, padding=1),\n",
        "          nn.BatchNorm2d(out_c),\n",
        "          nn.Conv2d(out_c, out_c, kernel_size=3, stride=1, padding=1),\n",
        "          nn.BatchNorm2d(out_c),\n",
        "          nn.ReLU()\n",
        "        )\n",
        "        self.maxpool=nn.MaxPool2d(kernel_size=2)\n",
        "\n",
        "    def forward(self,inputs):\n",
        "        x = self.down_conv(inputs)\n",
        "        p = self.maxpool(x)\n",
        "        return x, p\n",
        "\n",
        "class Up(nn.Module):\n",
        "    def __init__(self, in_c, out_c):\n",
        "        super().__init__()\n",
        "        self.up = nn.ConvTranspose2d(in_c, out_c, kernel_size=2,  stride=2, padding=0)\n",
        "        self.up_conv = nn.Sequential(\n",
        "          nn.Conv2d(in_c, out_c, kernel_size=3, stride=1,padding=1),\n",
        "          nn.BatchNorm2d(out_c),\n",
        "          nn.ReLU(),\n",
        "          nn.Conv2d(out_c, out_c, kernel_size=3,stride=1, padding=1),\n",
        "          nn.BatchNorm2d(out_c),\n",
        "          nn.ReLU(),\n",
        "        )\n",
        "\n",
        "    def forward(self, x, crop):\n",
        "        x = self.up(x)\n",
        "        x = torch.cat([x, crop], axis=1)\n",
        "        x = self.up_conv(x)\n",
        "        return x\n",
        "\n",
        "class Unet(nn.Module):\n",
        "    def __init__(self):\n",
        "        super().__init__()\n",
        "        self.d1 = Down(1, 64)\n",
        "        self.d2 = Down(64, 128)\n",
        "        self.d3 = Down(128, 256)\n",
        "        self.d4 = Down(256, 512)\n",
        "        self.bottleneck = Down(512, 1024)\n",
        "        self.u4 = Up(1024, 512)\n",
        "        self.u3 = Up(512, 256)\n",
        "        self.u2 = Up(256, 128)\n",
        "        self.u1 = Up(128, 64)\n",
        "        self.outputs = nn.Conv2d(64, 1, kernel_size=1, padding=0)\n",
        "    def forward(self, x):\n",
        "        x1, p1 = self.d1(x)\n",
        "#         print(f\"Size of x1: {x1.size()}\")\n",
        "#         print(f\"Size of p1: {p1.size()}\")\n",
        "        x2, p2 = self.d2(p1)\n",
        "#         print(f\"Size of x2: {x2.size()}\")\n",
        "#         print(f\"Size of p2: {p2.size()}\")\n",
        "        x3, p3 = self.d3(p2)\n",
        "#         print(f\"Size of x3: {x3.size()}\")\n",
        "#         print(f\"Size of p3: {p3.size()}\")\n",
        "        x4, p4 = self.d4(p3)\n",
        "#         print(f\"Size of x4: {x4.size()}\")\n",
        "#         print(f\"Size of p4: {p4.size()}\")\n",
        "        b, _ = self.bottleneck(p4)\n",
        "#         print(f\"Size of b: {b.size()}\")\n",
        "        u4 = self.u4(b,x4)\n",
        "#         print(f\"Size of u4: {u4.size()}\")\n",
        "        u3 = self.u3(u4,x3)\n",
        "        u2 = self.u2(u3,x2)\n",
        "        u1 = self.u1(u2,x1)\n",
        "        outputs = self.outputs(u1)\n",
        "        return outputs"
      ],
      "metadata": {
        "colab": {
          "base_uri": "https://localhost:8080/"
        },
        "id": "_ZCH2_G2DzAG",
        "outputId": "edde2499-de0e-47d8-ef24-5e8b5065011f"
      },
      "execution_count": null,
      "outputs": [
        {
          "output_type": "stream",
          "name": "stdout",
          "text": [
            "Drive already mounted at /content/gdrive; to attempt to forcibly remount, call drive.mount(\"/content/gdrive\", force_remount=True).\n"
          ]
        }
      ]
    },
    {
      "cell_type": "code",
      "source": [
        "DEVICE = torch.device(\"cpu\")\n",
        "BUFFER=int(512/2)\n",
        "rect = (1100, 3500, BUFFER*3, BUFFER*3)\n",
        "LEARNING_RATE = 0.03\n",
        "BATCH_SIZE = 4\n",
        "\n",
        "mask = np.array(Image.open(PREFIX+\"mask.png\").convert('1'))\n",
        "label = torch.from_numpy(np.array(Image.open(PREFIX+\"inklabels.png\"))).gt(0).float().to(DEVICE)\n",
        "Z_START = 10\n",
        "Z_END = 50\n",
        "images = [np.array(Image.open(filename), dtype=np.float32)/65535.0 for filename in tqdm(sorted(glob.glob(PREFIX+\"surface_volume/*.tif\"))[Z_START:Z_END])]\n",
        "image_stack_flatten = torch.mean(torch.stack([torch.from_numpy(image) for image in images], dim=0), dim=0).to(DEVICE)\n",
        "print(image_stack_flatten.shape)\n",
        "del images\n",
        "not_border = np.zeros(mask.shape, dtype=bool)\n",
        "not_border[BUFFER:mask.shape[0]-BUFFER, BUFFER:mask.shape[1]-BUFFER] = True\n",
        "arr_mask = np.array(mask) * not_border\n",
        "inside_rect = np.zeros(mask.shape, dtype=bool) * arr_mask\n",
        "inside_rect[rect[1]:rect[1]+rect[3], rect[0]:rect[0]+rect[2]] = True\n",
        "outside_rect = np.ones(mask.shape, dtype=bool) * arr_mask\n",
        "outside_rect[rect[1]:rect[1]+rect[3], rect[0]:rect[0]+rect[2]] = False\n",
        "pixels_inside_rect = np.argwhere(inside_rect)\n",
        "pixels_outside_rect = np.argwhere(outside_rect)"
      ],
      "metadata": {
        "colab": {
          "base_uri": "https://localhost:8080/"
        },
        "id": "I9TNX7JFDzy4",
        "outputId": "fd8e8199-dda2-439f-84a3-9a3b0ce26e01"
      },
      "execution_count": null,
      "outputs": [
        {
          "output_type": "stream",
          "name": "stderr",
          "text": [
            "100%|██████████| 40/40 [00:20<00:00,  1.98it/s]\n"
          ]
        },
        {
          "output_type": "stream",
          "name": "stdout",
          "text": [
            "torch.Size([8181, 6330])\n"
          ]
        }
      ]
    },
    {
      "cell_type": "code",
      "source": [
        "DEVICE = torch.device(\"cuda\" if torch.cuda.is_available() else \"cpu\")\n",
        "TRAINING_STEPS = 3000\n",
        "model = Unet().to(DEVICE)\n",
        "train_dataset = SubvolumeDataset2D(image_stack_flatten, label, pixels_outside_rect)\n",
        "train_loader = data.DataLoader(train_dataset, batch_size=BATCH_SIZE, shuffle=True)\n",
        "loss_fn = nn.MSELoss()\n",
        "optimizer = optim.SGD(model.parameters(), lr=LEARNING_RATE)\n",
        "# scheduler = torch.optim.lr_scheduler.OneCycleLR(optimizer, max_lr=LEARNING_RATE, total_steps=TRAINING_STEPS)\n",
        "\n",
        "def train_loop(dataloader, model, loss_fn, optimizer):\n",
        "    size = len(dataloader.dataset)\n",
        "    train_loss = 0\n",
        "    running_loss = 0.0\n",
        "    model.train()\n",
        "    for i, (subvolumes, inklabels) in tqdm(enumerate(dataloader), total=TRAINING_STEPS):\n",
        "        if i >= TRAINING_STEPS:\n",
        "            break\n",
        "\n",
        "        optimizer.zero_grad()\n",
        "        outputs = model(subvolumes.to(DEVICE))\n",
        "        loss = loss_fn(outputs, inklabels.to(DEVICE))\n",
        "\n",
        "        loss.backward()\n",
        "        optimizer.step()\n",
        "#         scheduler.step()\n",
        "\n",
        "        train_loss += loss.item()\n",
        "\n",
        "    train_loss /= len(dataloader)\n",
        "    print(f\"Train Error: Avg loss: {train_loss:>8f} \\n\")\n",
        "\n",
        "    return train_loss\n",
        "\n",
        "eval_dataset = SubvolumeDataset2D(image_stack_flatten, label, pixels_inside_rect)\n",
        "eval_loader = data.DataLoader(eval_dataset, batch_size=BATCH_SIZE, shuffle=False)\n",
        "def test_loop(dataloader, model, loss_fn):\n",
        "    model.eval()\n",
        "    size = len(dataloader.dataset)\n",
        "    test_loss = 0\n",
        "\n",
        "    with torch.no_grad():\n",
        "        for i, (subvolumes, inklabels) in tqdm(enumerate(dataloader), total=TRAINING_STEPS):\n",
        "            if i >= TRAINING_STEPS:\n",
        "                break\n",
        "            outputs = model(subvolumes.to(DEVICE))\n",
        "            loss = loss_fn(outputs, inklabels.to(DEVICE))\n",
        "            test_loss += loss.item()\n",
        "    test_loss /= len(dataloader)\n",
        "    print(f\"Test Error: Avg loss: {test_loss:>8f} \\n\")\n",
        "\n",
        "    return test_loss\n",
        "\n",
        "epochs = 30\n",
        "train_loss_all = []\n",
        "test_loss_all = []\n",
        "for t in range(epochs):\n",
        "    print(f\"Epoch {t+1}\\n-------------------------------\")\n",
        "    train_loss = train_loop(train_loader, model, loss_fn, optimizer)\n",
        "    test_loss = test_loop(eval_loader, model, loss_fn)\n",
        "\n",
        "    train_loss_all.append(train_loss)\n",
        "    test_loss_all.append(test_loss)\n",
        "\n",
        "print(\"Done!\")\n"
      ],
      "metadata": {
        "colab": {
          "base_uri": "https://localhost:8080/",
          "height": 1000
        },
        "id": "Ybgp11BWEfwM",
        "outputId": "2d655890-db93-46b7-a05a-99a9d683906a"
      },
      "execution_count": null,
      "outputs": [
        {
          "output_type": "stream",
          "name": "stdout",
          "text": [
            "Epoch 1\n",
            "-------------------------------\n"
          ]
        },
        {
          "output_type": "stream",
          "name": "stderr",
          "text": [
            "100%|██████████| 3000/3000 [05:30<00:00,  9.07it/s]\n"
          ]
        },
        {
          "output_type": "stream",
          "name": "stdout",
          "text": [
            "Train Error: Avg loss: 0.000063 \n",
            "\n"
          ]
        },
        {
          "output_type": "stream",
          "name": "stderr",
          "text": [
            "100%|██████████| 3000/3000 [01:42<00:00, 29.19it/s]\n"
          ]
        },
        {
          "output_type": "stream",
          "name": "stdout",
          "text": [
            "Test Error: Avg loss: 0.002647 \n",
            "\n",
            "Epoch 2\n",
            "-------------------------------\n"
          ]
        },
        {
          "output_type": "stream",
          "name": "stderr",
          "text": [
            "100%|██████████| 3000/3000 [05:28<00:00,  9.13it/s]\n"
          ]
        },
        {
          "output_type": "stream",
          "name": "stdout",
          "text": [
            "Train Error: Avg loss: 0.000057 \n",
            "\n"
          ]
        },
        {
          "output_type": "stream",
          "name": "stderr",
          "text": [
            "100%|██████████| 3000/3000 [01:42<00:00, 29.22it/s]\n"
          ]
        },
        {
          "output_type": "stream",
          "name": "stdout",
          "text": [
            "Test Error: Avg loss: 0.002502 \n",
            "\n",
            "Epoch 3\n",
            "-------------------------------\n"
          ]
        },
        {
          "output_type": "stream",
          "name": "stderr",
          "text": [
            "100%|██████████| 3000/3000 [05:28<00:00,  9.14it/s]\n"
          ]
        },
        {
          "output_type": "stream",
          "name": "stdout",
          "text": [
            "Train Error: Avg loss: 0.000028 \n",
            "\n"
          ]
        },
        {
          "output_type": "stream",
          "name": "stderr",
          "text": [
            "100%|██████████| 3000/3000 [01:42<00:00, 29.18it/s]\n"
          ]
        },
        {
          "output_type": "stream",
          "name": "stdout",
          "text": [
            "Test Error: Avg loss: 0.001641 \n",
            "\n",
            "Epoch 4\n",
            "-------------------------------\n"
          ]
        },
        {
          "output_type": "stream",
          "name": "stderr",
          "text": [
            "100%|██████████| 3000/3000 [05:28<00:00,  9.13it/s]\n"
          ]
        },
        {
          "output_type": "stream",
          "name": "stdout",
          "text": [
            "Train Error: Avg loss: 0.000011 \n",
            "\n"
          ]
        },
        {
          "output_type": "stream",
          "name": "stderr",
          "text": [
            "100%|██████████| 3000/3000 [01:42<00:00, 29.16it/s]\n"
          ]
        },
        {
          "output_type": "stream",
          "name": "stdout",
          "text": [
            "Test Error: Avg loss: 0.000629 \n",
            "\n",
            "Epoch 5\n",
            "-------------------------------\n"
          ]
        },
        {
          "output_type": "stream",
          "name": "stderr",
          "text": [
            "100%|██████████| 3000/3000 [05:28<00:00,  9.12it/s]\n"
          ]
        },
        {
          "output_type": "stream",
          "name": "stdout",
          "text": [
            "Train Error: Avg loss: 0.000007 \n",
            "\n"
          ]
        },
        {
          "output_type": "stream",
          "name": "stderr",
          "text": [
            "100%|██████████| 3000/3000 [01:42<00:00, 29.15it/s]\n"
          ]
        },
        {
          "output_type": "stream",
          "name": "stdout",
          "text": [
            "Test Error: Avg loss: 0.000518 \n",
            "\n",
            "Epoch 6\n",
            "-------------------------------\n"
          ]
        },
        {
          "output_type": "stream",
          "name": "stderr",
          "text": [
            " 24%|██▍       | 722/3000 [01:20<04:14,  8.94it/s]\n"
          ]
        },
        {
          "output_type": "error",
          "ename": "KeyboardInterrupt",
          "evalue": "",
          "traceback": [
            "\u001b[0;31m---------------------------------------------------------------------------\u001b[0m",
            "\u001b[0;31mKeyboardInterrupt\u001b[0m                         Traceback (most recent call last)",
            "\u001b[0;32m<ipython-input-4-55ef169e819b>\u001b[0m in \u001b[0;36m<cell line: 56>\u001b[0;34m()\u001b[0m\n\u001b[1;32m     56\u001b[0m \u001b[0;32mfor\u001b[0m \u001b[0mt\u001b[0m \u001b[0;32min\u001b[0m \u001b[0mrange\u001b[0m\u001b[0;34m(\u001b[0m\u001b[0mepochs\u001b[0m\u001b[0;34m)\u001b[0m\u001b[0;34m:\u001b[0m\u001b[0;34m\u001b[0m\u001b[0;34m\u001b[0m\u001b[0m\n\u001b[1;32m     57\u001b[0m     \u001b[0mprint\u001b[0m\u001b[0;34m(\u001b[0m\u001b[0;34mf\"Epoch {t+1}\\n-------------------------------\"\u001b[0m\u001b[0;34m)\u001b[0m\u001b[0;34m\u001b[0m\u001b[0;34m\u001b[0m\u001b[0m\n\u001b[0;32m---> 58\u001b[0;31m     \u001b[0mtrain_loss\u001b[0m \u001b[0;34m=\u001b[0m \u001b[0mtrain_loop\u001b[0m\u001b[0;34m(\u001b[0m\u001b[0mtrain_loader\u001b[0m\u001b[0;34m,\u001b[0m \u001b[0mmodel\u001b[0m\u001b[0;34m,\u001b[0m \u001b[0mloss_fn\u001b[0m\u001b[0;34m,\u001b[0m \u001b[0moptimizer\u001b[0m\u001b[0;34m)\u001b[0m\u001b[0;34m\u001b[0m\u001b[0;34m\u001b[0m\u001b[0m\n\u001b[0m\u001b[1;32m     59\u001b[0m     \u001b[0mtest_loss\u001b[0m \u001b[0;34m=\u001b[0m \u001b[0mtest_loop\u001b[0m\u001b[0;34m(\u001b[0m\u001b[0meval_loader\u001b[0m\u001b[0;34m,\u001b[0m \u001b[0mmodel\u001b[0m\u001b[0;34m,\u001b[0m \u001b[0mloss_fn\u001b[0m\u001b[0;34m)\u001b[0m\u001b[0;34m\u001b[0m\u001b[0;34m\u001b[0m\u001b[0m\n\u001b[1;32m     60\u001b[0m \u001b[0;34m\u001b[0m\u001b[0m\n",
            "\u001b[0;32m<ipython-input-4-55ef169e819b>\u001b[0m in \u001b[0;36mtrain_loop\u001b[0;34m(dataloader, model, loss_fn, optimizer)\u001b[0m\n\u001b[1;32m     25\u001b[0m \u001b[0;31m#         scheduler.step()\u001b[0m\u001b[0;34m\u001b[0m\u001b[0;34m\u001b[0m\u001b[0m\n\u001b[1;32m     26\u001b[0m \u001b[0;34m\u001b[0m\u001b[0m\n\u001b[0;32m---> 27\u001b[0;31m         \u001b[0mtrain_loss\u001b[0m \u001b[0;34m+=\u001b[0m \u001b[0mloss\u001b[0m\u001b[0;34m.\u001b[0m\u001b[0mitem\u001b[0m\u001b[0;34m(\u001b[0m\u001b[0;34m)\u001b[0m\u001b[0;34m\u001b[0m\u001b[0;34m\u001b[0m\u001b[0m\n\u001b[0m\u001b[1;32m     28\u001b[0m \u001b[0;34m\u001b[0m\u001b[0m\n\u001b[1;32m     29\u001b[0m     \u001b[0mtrain_loss\u001b[0m \u001b[0;34m/=\u001b[0m \u001b[0mlen\u001b[0m\u001b[0;34m(\u001b[0m\u001b[0mdataloader\u001b[0m\u001b[0;34m)\u001b[0m\u001b[0;34m\u001b[0m\u001b[0;34m\u001b[0m\u001b[0m\n",
            "\u001b[0;31mKeyboardInterrupt\u001b[0m: "
          ]
        }
      ]
    },
    {
      "cell_type": "code",
      "source": [
        "plt.plot(train_loss_all)\n",
        "plt.plot(test_loss_all)"
      ],
      "metadata": {
        "colab": {
          "base_uri": "https://localhost:8080/",
          "height": 448
        },
        "id": "yISSwLgUHcd6",
        "outputId": "9dfbc3dd-4310-4a6c-9ef2-a36fc0b3b0ed"
      },
      "execution_count": null,
      "outputs": [
        {
          "output_type": "execute_result",
          "data": {
            "text/plain": [
              "[<matplotlib.lines.Line2D at 0x7dcd48381cf0>]"
            ]
          },
          "metadata": {},
          "execution_count": 5
        },
        {
          "output_type": "display_data",
          "data": {
            "text/plain": [
              "<Figure size 640x480 with 1 Axes>"
            ],
            "image/png": "[encoded data removed]"
          },
          "metadata": {}
        }
      ]
    },
    {
      "cell_type": "markdown",
      "source": [
        "# test 2D UNET"
      ],
      "metadata": {
        "id": "gstr12raHmxT"
      }
    },
    {
      "cell_type": "code",
      "source": [
        "import numpy as np\n",
        "import pandas as pd\n",
        "import matplotlib.pyplot as plt\n",
        "from tqdm import tqdm\n",
        "import glob\n",
        "import PIL.Image as Image\n",
        "\n",
        "import torch\n",
        "import torch.nn as nn\n",
        "import torch.optim as optim\n",
        "import torch.utils.data as data\n",
        "\n",
        "class SubvolumeDataset2D(data.Dataset):\n",
        "    def __init__(self, image_stack, label, pixels):\n",
        "        self.image_stack = image_stack\n",
        "        self.label = label\n",
        "        self.pixels = pixels\n",
        "    def __len__(self):\n",
        "        return len(self.pixels)\n",
        "\n",
        "    def __getitem__(self, index):\n",
        "        y, x = self.pixels[index]\n",
        "        subvolume = self.image_stack[y-BUFFER:y+BUFFER, x-BUFFER:x+BUFFER].view(1,BUFFER*2, BUFFER*2)\n",
        "        inklabel = self.label[y-BUFFER:y+BUFFER, x-BUFFER:x+BUFFER].view(1,BUFFER*2, BUFFER*2)\n",
        "        return subvolume, inklabel\n",
        "\n",
        "class Down(nn.Module):\n",
        "    def __init__(self, in_c, out_c):\n",
        "        super().__init__()\n",
        "        self.down_conv = nn.Sequential(\n",
        "          nn.Conv2d(in_c, out_c, kernel_size=3, stride=1, padding=1),\n",
        "          nn.BatchNorm2d(out_c),\n",
        "          nn.Conv2d(out_c, out_c, kernel_size=3, stride=1, padding=1),\n",
        "          nn.BatchNorm2d(out_c),\n",
        "          nn.ReLU()\n",
        "        )\n",
        "        self.maxpool=nn.MaxPool2d(kernel_size=2)\n",
        "\n",
        "    def forward(self,inputs):\n",
        "        x = self.down_conv(inputs)\n",
        "        p = self.maxpool(x)\n",
        "        return x, p\n",
        "\n",
        "class Up(nn.Module):\n",
        "    def __init__(self, in_c, out_c):\n",
        "        super().__init__()\n",
        "        self.up = nn.ConvTranspose2d(in_c, out_c, kernel_size=2,  stride=2, padding=0)\n",
        "        self.up_conv = nn.Sequential(\n",
        "          nn.Conv2d(in_c, out_c, kernel_size=3, stride=1,padding=1),\n",
        "          nn.BatchNorm2d(out_c),\n",
        "          nn.ReLU(),\n",
        "          nn.Conv2d(out_c, out_c, kernel_size=3,stride=1, padding=1),\n",
        "          nn.BatchNorm2d(out_c),\n",
        "          nn.ReLU(),\n",
        "        )\n",
        "\n",
        "    def forward(self, x, crop):\n",
        "        x = self.up(x)\n",
        "        x = torch.cat([x, crop], axis=1)\n",
        "        x = self.up_conv(x)\n",
        "        return x\n",
        "\n",
        "class Unet(nn.Module):\n",
        "    def __init__(self):\n",
        "        super().__init__()\n",
        "        self.d1 = Down(1, 64)\n",
        "        self.d2 = Down(64, 128)\n",
        "        self.d3 = Down(128, 256)\n",
        "        self.d4 = Down(256, 512)\n",
        "        self.bottleneck = Down(512, 1024)\n",
        "        self.u4 = Up(1024, 512)\n",
        "        self.u3 = Up(512, 256)\n",
        "        self.u2 = Up(256, 128)\n",
        "        self.u1 = Up(128, 64)\n",
        "        self.outputs = nn.Conv2d(64, 1, kernel_size=1, padding=0)\n",
        "    def forward(self, x):\n",
        "        x1, p1 = self.d1(x)\n",
        "#         print(f\"Size of x1: {x1.size()}\")\n",
        "#         print(f\"Size of p1: {p1.size()}\")\n",
        "        x2, p2 = self.d2(p1)\n",
        "#         print(f\"Size of x2: {x2.size()}\")\n",
        "#         print(f\"Size of p2: {p2.size()}\")\n",
        "        x3, p3 = self.d3(p2)\n",
        "#         print(f\"Size of x3: {x3.size()}\")\n",
        "#         print(f\"Size of p3: {p3.size()}\")\n",
        "        x4, p4 = self.d4(p3)\n",
        "#         print(f\"Size of x4: {x4.size()}\")\n",
        "#         print(f\"Size of p4: {p4.size()}\")\n",
        "        b, _ = self.bottleneck(p4)\n",
        "#         print(f\"Size of b: {b.size()}\")\n",
        "        u4 = self.u4(b,x4)\n",
        "#         print(f\"Size of u4: {u4.size()}\")\n",
        "        u3 = self.u3(u4,x3)\n",
        "        u2 = self.u2(u3,x2)\n",
        "        u1 = self.u1(u2,x1)\n",
        "        outputs = self.outputs(u1)\n",
        "        return outputs\n",
        "\n",
        "DEVICE = torch.device(\"cuda\" if torch.cuda.is_available() else \"cpu\")\n",
        "model = Unet().to(DEVICE)\n",
        "img=torch.rand(1,1,512,512)\n",
        "out=model(img.to(DEVICE))\n",
        "print(img.shape)\n",
        "print(out.shape)"
      ],
      "metadata": {
        "id": "A3GiamB3Hp2J"
      },
      "execution_count": null,
      "outputs": []
    },
    {
      "cell_type": "code",
      "source": [],
      "metadata": {
        "colab": {
          "base_uri": "https://localhost:8080/"
        },
        "id": "Hu_LFVWlHs5m",
        "outputId": "08d43c53-7e89-474a-857f-f742e9e92efb"
      },
      "execution_count": null,
      "outputs": [
        {
          "output_type": "stream",
          "name": "stdout",
          "text": [
            "torch.Size([1, 1, 512, 512])\n",
            "torch.Size([1, 1, 512, 512])\n"
          ]
        }
      ]
    },
    {
      "cell_type": "markdown",
      "source": [
        "# test 3D UNET"
      ],
      "metadata": {
        "id": "TDxDb8RrHhiq"
      }
    },
    {
      "cell_type": "code",
      "source": [
        "import numpy as np\n",
        "import pandas as pd\n",
        "import matplotlib.pyplot as plt\n",
        "from tqdm import tqdm\n",
        "import glob\n",
        "import PIL.Image as Image\n",
        "\n",
        "import torch\n",
        "import torch.nn as nn\n",
        "import torch.optim as optim\n",
        "import torch.utils.data as data\n",
        "\n",
        "class Down(nn.Module):\n",
        "    def __init__(self, in_c, out_c):\n",
        "        super().__init__()\n",
        "        self.down_conv = nn.Sequential(\n",
        "          nn.Conv3d(in_c, out_c, kernel_size=3, stride=1, padding=1),\n",
        "          nn.BatchNorm3d(out_c),\n",
        "          nn.Conv3d(out_c, out_c, kernel_size=3, stride=1, padding=1),\n",
        "          nn.BatchNorm3d(out_c),\n",
        "          nn.ReLU()\n",
        "        )\n",
        "        self.maxpool=nn.MaxPool3d(kernel_size=2)\n",
        "\n",
        "    def forward(self,inputs):\n",
        "        x = self.down_conv(inputs)\n",
        "        p = self.maxpool(x)\n",
        "        return x, p\n",
        "\n",
        "class Up(nn.Module):\n",
        "    def __init__(self, in_c, out_c):\n",
        "        super().__init__()\n",
        "        self.up = nn.ConvTranspose3d(in_c, out_c, kernel_size=2,  stride=2, padding=0)\n",
        "        self.up_conv = nn.Sequential(\n",
        "          nn.Conv3d(in_c, out_c, kernel_size=3, stride=1,padding=1),\n",
        "          nn.BatchNorm3d(out_c),\n",
        "          nn.ReLU(),\n",
        "          nn.Conv3d(out_c, out_c, kernel_size=3,stride=1, padding=1),\n",
        "          nn.BatchNorm3d(out_c),\n",
        "          nn.ReLU(),\n",
        "        )\n",
        "\n",
        "    def forward(self, x, crop):\n",
        "        x = self.up(x)\n",
        "        x = torch.cat([x, crop], dim=1)\n",
        "        x = self.up_conv(x)\n",
        "        return x\n",
        "\n",
        "class Unet(nn.Module):\n",
        "    def __init__(self):\n",
        "        super().__init__()\n",
        "        self.d1 = Down(1, 64)\n",
        "        self.d2 = Down(64, 128)\n",
        "        self.d3 = Down(128, 256)\n",
        "        self.d4 = Down(256, 512)\n",
        "        self.bottleneck = Down(512, 1024)\n",
        "        self.u4 = Up(1024, 512)\n",
        "        self.u3 = Up(512, 256)\n",
        "        self.u2 = Up(256, 128)\n",
        "        self.u1 = Up(128, 64)\n",
        "        self.outputs = nn.Conv3d(64, 1, kernel_size=1, padding=0)\n",
        "    def forward(self, x):\n",
        "        x1, p1 = self.d1(x)\n",
        "#         print(f\"Size of x1: {x1.size()}\")\n",
        "#         print(f\"Size of p1: {p1.size()}\")\n",
        "        x2, p2 = self.d2(p1)\n",
        "#         print(f\"Size of x2: {x2.size()}\")\n",
        "#         print(f\"Size of p2: {p2.size()}\")\n",
        "        x3, p3 = self.d3(p2)\n",
        "#         print(f\"Size of x3: {x3.size()}\")\n",
        "#         print(f\"Size of p3: {p3.size()}\")\n",
        "        x4, p4 = self.d4(p3)\n",
        "#         print(f\"Size of x4: {x4.size()}\")\n",
        "#         print(f\"Size of p4: {p4.size()}\")\n",
        "        b, _ = self.bottleneck(p4)\n",
        "#         print(f\"Size of b: {b.size()}\")\n",
        "        u4 = self.u4(b,x4)\n",
        "#         print(f\"Size of u4: {u4.size()}\")\n",
        "        u3 = self.u3(u4,x3)\n",
        "        u2 = self.u2(u3,x2)\n",
        "        u1 = self.u1(u2,x1)\n",
        "        outputs = self.outputs(u1)\n",
        "        return outputs\n",
        "DEVICE = torch.device(\"cpu\")\n",
        "model = Unet().to(DEVICE)\n",
        "img=torch.rand(1,1,64,512,512)\n",
        "out=model(img.to(DEVICE))\n",
        "print(img.shape)\n",
        "print(out.shape)"
      ],
      "metadata": {
        "colab": {
          "base_uri": "https://localhost:8080/"
        },
        "id": "A9CtM1svHchX",
        "outputId": "5263f809-ca42-404c-a7d7-961576dc1e4b"
      },
      "execution_count": null,
      "outputs": [
        {
          "output_type": "stream",
          "name": "stdout",
          "text": [
            "torch.Size([1, 1, 64, 512, 512])\n",
            "torch.Size([1, 1, 64, 512, 512])\n"
          ]
        }
      ]
    },
    {
      "cell_type": "code",
      "source": [],
      "metadata": {
        "id": "xnreK-3FHetv"
      },
      "execution_count": null,
      "outputs": []
    }
  ]
}